{
 "cells": [
  {
   "cell_type": "markdown",
   "metadata": {
    "cell_id": "c281b05a57f44c5d99be18b95c181ab3",
    "deepnote_cell_type": "text-cell-h1",
    "formattedRanges": []
   },
   "source": [
    "# CTD Cast vs Mount Temperature Data at Folger Pinnacle (11/07/2023)"
   ]
  },
  {
   "cell_type": "markdown",
   "metadata": {
    "cell_id": "638ccb79124d45d08d45f96eb467d59f",
    "deepnote_cell_type": "text-cell-bullet",
    "formattedRanges": []
   },
   "source": [
    "- scroll all the way down to see my notes and plots"
   ]
  },
  {
   "cell_type": "code",
   "execution_count": 257,
   "metadata": {
    "cell_id": "dcbb2292da434dffaadbb6c5713c48c0",
    "deepnote_cell_type": "code",
    "execution_context_id": "04a5502c-32be-4545-b1ee-90d5a2265390",
    "execution_millis": 414,
    "execution_start": 1748983197822,
    "source_hash": "940a8361"
   },
   "outputs": [],
   "source": [
    "# set up environment ?\n",
    "import pandas as pd\n",
    "import onc\n",
    "import os\n",
    "import json\n",
    "from typing import List, Tuple\n",
    "import matplotlib.pyplot as plt\n",
    "import matplotlib.dates as mdates\n",
    "from functools import reduce\n",
    "\n",
    "#token = os.environ[\"TRICY_TOKEN\"]\n",
    "\n",
    "from dotenv import load_dotenv\n",
    "load_dotenv()\n",
    "token = os.getenv(\"ONC_TOKEN\")\n",
    "\n",
    "# Create ONC client\n",
    "my_onc = onc.ONC(token)"
   ]
  },
  {
   "cell_type": "code",
   "execution_count": 258,
   "metadata": {
    "cell_id": "4b2df7d8096f4b02a4904d07b13839e4",
    "deepnote_cell_type": "code",
    "execution_context_id": "04a5502c-32be-4545-b1ee-90d5a2265390",
    "execution_millis": 0,
    "execution_start": 1748983198302,
    "source_hash": "2460ef98"
   },
   "outputs": [],
   "source": [
    "def get_property(start: str, end: str, locationCode: str, deviceCategoryCode: str, sensorCategoryCode: str) -> pd.DataFrame:\n",
    "    \"\"\"\n",
    "    Fetches scalar data using the ONC Python SDK for a given location, device category, sensor property,\n",
    "    and time window. Returns a merged DataFrame with timestamps and sensor values.\n",
    "\n",
    "    Parameters:\n",
    "        start (str): Start date in ISO 8601 format (e.g., \"2023-07-11T17:00:00.000Z\").\n",
    "        end (str): End date in ISO 8601 format (e.g., \"2023-07-11T22:30:00.000Z\").\n",
    "        locationCode (str): ONC location code (e.g., \"CF341\").\n",
    "        deviceCategoryCode (str): ONC device category (e.g., \"CTD\").\n",
    "        sensorCategoryCode (str): Comma-separated sensor types to fetch (e.g., \"depth,temperature\").\n",
    "\n",
    "    Returns:\n",
    "        pd.DataFrame: DataFrame containing merged sensor values with a timestamp index.\n",
    "                    schema: timestamp: datetime obj, {prop}: int, uom: str\n",
    "    \"\"\"\n",
    "    params = {\n",
    "        \"locationCode\": locationCode,\n",
    "        \"deviceCategoryCode\": deviceCategoryCode,\n",
    "        \"sensorCategoryCodes\": sensorCategoryCode,\n",
    "        \"dateFrom\": start,\n",
    "        \"dateTo\" : end\n",
    "    }\n",
    "\n",
    "    # JSON response from ONC\n",
    "    result = my_onc.getScalardata(params)\n",
    "\n",
    "    # error handle if there is no data returned\n",
    "    if not result or \"sensorData\" not in result or result[\"sensorData\"] is None or len(result[\"sensorData\"]) == 0:\n",
    "        print(f\"No data returned for devices in {deviceCategoryCode} at {locationCode} between {start} and {end}.\")\n",
    "        return\n",
    "        \n",
    "    else:\n",
    "        # extract the relevant sensors from the JSON response\n",
    "\n",
    "        dfs = []\n",
    "\n",
    "        for sensor in result[\"sensorData\"]:\n",
    "            # extract each sensors data fields\n",
    "            prop = sensor[\"sensorCategoryCode\"]\n",
    "            times = sensor[\"data\"][\"sampleTimes\"]\n",
    "            values = sensor[\"data\"][\"values\"]\n",
    "            unit = sensor[\"unitOfMeasure\"]\n",
    "\n",
    "            # populate dataframe (Pandas)\n",
    "            # schema: timestamp: datetime obj, {prop}: int, uom: str\n",
    "            df = pd.DataFrame({\n",
    "                # syntax: \"label\": variable\n",
    "                \"timestamp\": pd.to_datetime(times), # convert strings to datetime objects\n",
    "                prop: values,\n",
    "                \"uom\": unit\n",
    "            })\n",
    "            dfs.append(df)\n",
    "\n",
    "    # merge dataframes by joining on timestamp    \n",
    "    df_merged = reduce(lambda left, right: pd.merge(left, right, on=\"timestamp\", how=\"outer\"), dfs)\n",
    "    df_merged.sort_values(\"timestamp\", inplace=True)\n",
    "    \n",
    "    #df_merged.head()\n",
    "    return df_merged"
   ]
  },
  {
   "cell_type": "code",
   "execution_count": 259,
   "metadata": {
    "cell_id": "6f51dde8eec24940ad7624b5bb4405c6",
    "deepnote_cell_type": "code",
    "execution_context_id": "04a5502c-32be-4545-b1ee-90d5a2265390",
    "execution_millis": 1,
    "execution_start": 1748983198362,
    "source_hash": "5ce74528"
   },
   "outputs": [],
   "source": [
    "def detect_cast_intervals(df: pd.DataFrame, gap_threshold_minutes: int = 10) -> List[Tuple[pd.Timestamp, pd.Timestamp]]:\n",
    "    \"\"\"\n",
    "    Detects individual CTD cast intervals based on time gaps in the data.\n",
    "\n",
    "    Parameters:\n",
    "        df (pd.DataFrame): DataFrame with a 'timestamp' column (datetime format).\n",
    "        gap_threshold_minutes (int): Time gap threshold to detect breaks between casts.\n",
    "\n",
    "    Returns:\n",
    "        List[Tuple[pd.Timestamp, pd.Timestamp]]: List of (dateFrom, dateTo) pairs in ISO 8601 UTC format.\n",
    "    \"\"\"\n",
    "    if df.empty or \"timestamp\" not in df.columns:\n",
    "            return []\n",
    "\n",
    "    # sort df by timestamp\n",
    "    df = df.sort_values(\"timestamp\").reset_index(drop=True)\n",
    "\n",
    "    gaps = df[\"timestamp\"].diff().fillna(pd.Timedelta(seconds=0)) # calculate difference between each time stamp and store in gaps: pandas.Series\n",
    "    new_cast_starts = df.index[gaps > pd.Timedelta(minutes=gap_threshold_minutes)].tolist() # if gap > 10 mins then it's index is added to new_cast_starts list\n",
    "\n",
    "    cast_starts = [0] + new_cast_starts\n",
    "    cast_ends = new_cast_starts + [len(df)] # list of end timestamps\n",
    "\n",
    "    # Format as ISO 8601 string with milliseconds and 'Z' for UTC\n",
    "    intervals = [\n",
    "        (\n",
    "            df[\"timestamp\"].iloc[start_idx].strftime(\"%Y-%m-%dT%H:%M:%S.000Z\"),\n",
    "            df[\"timestamp\"].iloc[end_idx - 1].strftime(\"%Y-%m-%dT%H:%M:%S.000Z\")\n",
    "        )\n",
    "        for start_idx, end_idx in zip(cast_starts, cast_ends)\n",
    "    ]\n",
    "\n",
    "    return intervals"
   ]
  },
  {
   "cell_type": "code",
   "execution_count": 260,
   "metadata": {
    "cell_id": "67343d7fe32643379cf63b99384c69c9",
    "deepnote_cell_type": "code",
    "execution_context_id": "04a5502c-32be-4545-b1ee-90d5a2265390",
    "execution_millis": 3,
    "execution_start": 1748983239706,
    "source_hash": "db527345"
   },
   "outputs": [],
   "source": [
    "def detect_deep_intervals(df: pd.DataFrame, depth_threshold: int, gap_threshold_seconds: int = 60) -> List[Tuple[pd.Timestamp, pd.Timestamp]]: #TODO: change from str returns to timestamp\n",
    "    \"\"\"\n",
    "    Detects continuous time intervals where depth exceeds a threshold.\n",
    "    \n",
    "    Parameters:\n",
    "        df (pd.DataFrame): DataFrame with 'timestamp' and 'depth' columns.\n",
    "        depth_threshold (float): Minimum depth to include.\n",
    "        gap_threshold_seconds (int): Max allowed time gap between points within an interval.\n",
    "    \n",
    "    Returns:\n",
    "        List[Tuple[str, str]]: List of (start, end) timestamp strings in ISO 8601 UTC format.\n",
    "    \"\"\"\n",
    "\n",
    "    # Filter for rows deeper than the threshold\n",
    "    df_deep = df[df[\"depth\"] > depth_threshold].copy()\n",
    "\n",
    "    if df_deep.empty:\n",
    "        return []\n",
    "\n",
    "    # Sort by time and calculate time gaps\n",
    "    df_deep = df_deep.sort_values(\"timestamp\").reset_index(drop=True)\n",
    "    df_deep[\"delta\"] = df_deep[\"timestamp\"].diff().dt.total_seconds().fillna(0)\n",
    "\n",
    "    intervals = []\n",
    "    start_time = df_deep.loc[0, \"timestamp\"]\n",
    "\n",
    "    for i in range(1, len(df_deep)):\n",
    "        if df_deep.loc[i, \"delta\"] > gap_threshold_seconds:\n",
    "            end_time = df_deep.loc[i - 1, \"timestamp\"]\n",
    "            intervals.append((start_time, end_time))\n",
    "            start_time = df_deep.loc[i, \"timestamp\"]\n",
    "\n",
    "    # Add the final interval\n",
    "    intervals.append((start_time, df_deep.iloc[-1][\"timestamp\"]))\n",
    "\n",
    "    return intervals\n",
    "\n",
    "    # create copy of df, filtering for deep sections\n",
    "    df_deep = df[df[\"depth\"] > depth_threshold].copy()\n",
    "\n",
    "    # error handle\n",
    "    if df_deep.empty:\n",
    "        return []\n",
    "\n",
    "    # eSort and reset index (index is timestamp)\n",
    "    df_deep = df_deep.sort_values(\"timestamp\").reset_index(drop=True)\n",
    "\n",
    "    # Calculate time gaps between 1 or more deep sections\n",
    "    df_deep[\"delta\"] = df_deep[\"timestamp\"].diff().dt.total_seconds()\n",
    "\n",
    "    intervals = []\n",
    "    start_time = df_deep.loc[0, \"timestamp\"]\n",
    "\n",
    "    for i in range(1, len(df_deep)):\n",
    "        if df_deep.loc[i, \"delta\"] > gap_threshold_seconds:\n",
    "            end_time = df_deep.loc[i - 1, \"timestamp\"]\n",
    "            intervals.append((\n",
    "                start_time.strftime(\"%Y-%m-%dT%H:%M:%S.000Z\"),\n",
    "                end_time.strftime(\"%Y-%m-%dT%H:%M:%S.000Z\")\n",
    "            ))\n",
    "            start_time = df_deep.loc[i, \"timestamp\"]\n",
    "\n",
    "    # Add final interval\n",
    "    intervals.append((\n",
    "        start_time.strftime(\"%Y-%m-%dT%H:%M:%S.000Z\"),\n",
    "        df_deep.iloc[-1][\"timestamp\"].strftime(\"%Y-%m-%dT%H:%M:%S.000Z\")\n",
    "    ))\n",
    "\n",
    "    return intervals\n"
   ]
  },
  {
   "cell_type": "code",
   "execution_count": 261,
   "metadata": {
    "cell_id": "5cc23af150de47dab5e322e8775f7c38",
    "deepnote_cell_type": "code",
    "execution_context_id": "04a5502c-32be-4545-b1ee-90d5a2265390",
    "execution_millis": 0,
    "execution_start": 1748983198472,
    "source_hash": "bb938610"
   },
   "outputs": [],
   "source": [
    "def plot_cast(start: pd.Timestamp, end: pd.Timestamp, locationCode: str, deviceCategoryCode: str,\n",
    "                  sensorCategoryCode: str, df: pd.DataFrame, depth_theshold: int) -> None:\n",
    "    \"\"\"\n",
    "    Plots a sensor property time-series with optional cast interval markers.\n",
    "\n",
    "    Parameters:\n",
    "        start (pd.Timedstamp): Start time in ISO 8601 format.\n",
    "        end (pd.Timestamp): End time in ISO 8601 format.\n",
    "        locationCode (str): ONC location code.\n",
    "        deviceCategoryCode (str): ONC device category.\n",
    "        sensorCategoryCode (str): Sensor property (e.g., \"depth\").\n",
    "        df (pd.DataFrame): DataFrame containing 'timestamp' and property column.\n",
    "        depth_theshold (int): Minimum depth to include.\n",
    "    \n",
    "    Returns:\n",
    "        None\n",
    "    \"\"\"\n",
    "    \n",
    "    df_int = df[\n",
    "        (df[\"timestamp\"] >= start) &\n",
    "        (df[\"timestamp\"] <= end) &\n",
    "        (df[\"depth\"] >= depth_theshold)\n",
    "    ]\n",
    "\n",
    "    if df_int.empty:\n",
    "        print(f\"Skipping empty cast interval: {start} to {end}\")\n",
    "        return\n",
    "\n",
    "    ax = df_int.plot(\n",
    "        x=\"temperature\",\n",
    "        y=\"depth\",\n",
    "        xlabel=\"Temperature (°C)\",\n",
    "        ylabel=\"Depth (m)\",\n",
    "        title=f\"CTD Cast at {locationCode}:\\n {end.strftime('%B %d, %Y')} from {start.strftime('%H:%M:%S.%f')[:-4]} to {end.strftime('%H:%M:%S.%f')[:-4]} UTC\" \n",
    "    )\n",
    "\n",
    "    ax.invert_yaxis() # let depth increase downwards along the y-axis"
   ]
  },
  {
   "cell_type": "code",
   "execution_count": 262,
   "metadata": {
    "cell_id": "0239492ce37b4d9298242c85f788f65c",
    "deepnote_cell_type": "code",
    "execution_context_id": "04a5502c-32be-4545-b1ee-90d5a2265390",
    "execution_millis": 0,
    "execution_start": 1748983198522,
    "source_hash": "69051eac"
   },
   "outputs": [],
   "source": [
    "def plot_mount(start: pd.Timestamp, end: pd.Timestamp, locationCode: str, deviceCategoryCode: str,\n",
    "                  sensorCategoryCode: str, df: pd.DataFrame) -> None:\n",
    "    \"\"\"\n",
    "    Plots a sensor property time-series with optional cast interval markers.\n",
    "\n",
    "    Parameters:\n",
    "        start (pd.Timedelta): Start time in ISO 8601 format.\n",
    "        end (pd.Timedelta): End time in ISO 8601 format.\n",
    "        locationCode (str): ONC location code.\n",
    "        deviceCategoryCode (str): ONC device category.\n",
    "        sensorCategoryCode (str): Sensor property (e.g., \"depth\").\n",
    "        df (pd.DataFrame): DataFrame containing 'timestamp' and property column.\n",
    "    \n",
    "    Returns:\n",
    "        None\n",
    "    \"\"\"\n",
    "\n",
    "    df_int = df[(df[\"timestamp\"] >= start) & (df[\"timestamp\"] <= end)] # filter the df to get the relevant cast interval\n",
    "    \n",
    "    ax = df_int.plot(x = \"timestamp\", \n",
    "                y = \"temperature\", \n",
    "                xlabel = \"Time (HH:MM:SS)\", \n",
    "                ylabel = \"Temperature (C)\", \n",
    "                title = f\"CTD Mount at {locationCode}:\\n {end.strftime('%B %d, %Y')} from {start.strftime('%H:%M:%S.%f')[:-4]} to {end.strftime('%H:%M:%S.%f')[:-4]} UTC\" # plot and label\n",
    "    )"
   ]
  },
  {
   "cell_type": "markdown",
   "metadata": {
    "cell_id": "5fad43c2d9fa4e6ca8057e8b8dd9d88f",
    "deepnote_cell_type": "text-cell-h3",
    "formattedRanges": []
   },
   "source": [
    "### CTD Cast vs Mount Temperature Data at Fogler Pinnacle"
   ]
  },
  {
   "cell_type": "markdown",
   "metadata": {
    "cell_id": "362a44d72aa44caaa18d8c5b97a90b8a",
    "deepnote_cell_type": "text-cell-p",
    "formattedRanges": []
   },
   "source": [
    "Notes:\n",
    " - I estimated Pinnacle depth as 23m and have filtered cast data for when the cast is at least 20m deep\n",
    "- Other than displaying data from the exact time frame of the cast, and filtering for the sub section where the cast is at least 20m deep, I have applied to no real processing\n",
    "- I have not yet put the mount and cast data on the same plot, but that will be a goal for tomorrow"
   ]
  },
  {
   "cell_type": "markdown",
   "metadata": {
    "cell_id": "8c52969a64a9454c993f98d66219a7b1",
    "deepnote_cell_type": "text-cell-p",
    "formattedRanges": []
   },
   "source": [
    "Possible Issues:\n",
    "- Closeness of depth needed to compare casts/mounts and extremely small time series "
   ]
  },
  {
   "cell_type": "markdown",
   "metadata": {
    "cell_id": "304e7d7fd5b64df9a8b74bf717d6cf76",
    "deepnote_cell_type": "text-cell-h3",
    "formattedRanges": []
   },
   "source": [
    "### Date of Interest: July 11, 2023"
   ]
  },
  {
   "cell_type": "code",
   "execution_count": 263,
   "metadata": {
    "cell_id": "489c6bd750d348d2ad89ab7c7c24f0e1",
    "deepnote_cell_type": "code",
    "execution_context_id": "04a5502c-32be-4545-b1ee-90d5a2265390",
    "execution_millis": 5045,
    "execution_start": 1748983198572,
    "source_hash": "572520d3"
   },
   "outputs": [],
   "source": [
    "# date of interest: July 11, 2023\n",
    "# note: I narrowed down the time slot using the plotting utility on Oceans 3.0\n",
    "dateFrom = \"2023-07-11T17:00:00.000Z\"\n",
    "dateTo = \"2023-07-11T22:30:00.000Z\"\n",
    "\n",
    "# fetch data for CTD casts and mounts from July 11, 2023\n",
    "cast_df = get_property(dateFrom, dateTo, \"CF341\", \"CTD\", \"depth,temperature\") # populate dataframe of entire day\n",
    "mount_df = get_property(dateFrom, dateTo, \"FGPPN\", \"CTD\", \"temperature\")\n"
   ]
  },
  {
   "cell_type": "markdown",
   "metadata": {},
   "source": [
    "###Combined plot"
   ]
  },
  {
   "cell_type": "code",
   "execution_count": 264,
   "metadata": {},
   "outputs": [],
   "source": [
    "#def combined_plot():\n",
    "    "
   ]
  },
  {
   "cell_type": "markdown",
   "metadata": {
    "cell_id": "fd90999768254185977085de0711840d",
    "deepnote_cell_type": "text-cell-h3",
    "formattedRanges": []
   },
   "source": [
    "### Detect cast time intervals and isolate respective cast and mount data"
   ]
  },
  {
   "cell_type": "code",
   "execution_count": 265,
   "metadata": {
    "cell_id": "4d08fabee78e42dfa11c964c8390b0a9",
    "deepnote_cell_type": "code",
    "execution_context_id": "04a5502c-32be-4545-b1ee-90d5a2265390",
    "execution_millis": 1,
    "execution_start": 1748983203682,
    "source_hash": "e3405e62"
   },
   "outputs": [
    {
     "name": "stdout",
     "output_type": "stream",
     "text": [
      "Cast intervals (UTC):\n",
      "Start: 2023-07-11T17:12:51.000Z, End: 2023-07-11T17:14:20.000Z\n",
      "Start: 2023-07-11T20:13:27.000Z, End: 2023-07-11T20:15:39.000Z\n",
      "\n",
      "Deep section of cast intervals (UTC):\n",
      "Start: 2023-07-11 17:13:58.780000+00:00, End: 2023-07-11 17:14:20.890000+00:00\n",
      "Start: 2023-07-11 20:15:03.130000+00:00, End: 2023-07-11 20:15:39.880000+00:00\n"
     ]
    }
   ],
   "source": [
    "# isolate cast time intervals, and deep section of each cast\n",
    "cast_ints = detect_cast_intervals(cast_df, 10) # isolate time intervals for each cast\n",
    "deep_ints = detect_deep_intervals(cast_df, 20, 60) # isolate time intervals for deep section (>= 20m)of each cast\n",
    "\n",
    "# isolate cast 1 and 2 deep sections\n",
    "cast_start1,cast_end1 = deep_ints[0]\n",
    "cast_start2,cast_end2 = deep_ints[1]\n",
    "\n",
    "# print intervals to console\n",
    "print(\"Cast intervals (UTC):\")\n",
    "for cast_start, cast_end in cast_ints:\n",
    "   print(f\"Start: {cast_start}, End: {cast_end}\")\n",
    "\n",
    "print()\n",
    "\n",
    "print(\"Deep section of cast intervals (UTC):\")\n",
    "for cast_start, cast_end in deep_ints:\n",
    "   print(f\"Start: {cast_start}, End: {cast_end}\")"
   ]
  },
  {
   "cell_type": "markdown",
   "metadata": {
    "cell_id": "c86763b8850849eb9b388c90807ee2de",
    "deepnote_cell_type": "text-cell-h3",
    "formattedRanges": []
   },
   "source": [
    "### Plot cast 1 and mount temperature data"
   ]
  },
  {
   "cell_type": "code",
   "execution_count": 266,
   "metadata": {
    "cell_id": "2ea6e0875bb64823b13732c1e588a56b",
    "deepnote_cell_type": "code",
    "execution_context_id": "04a5502c-32be-4545-b1ee-90d5a2265390",
    "execution_millis": 318,
    "execution_start": 1748983203742,
    "source_hash": "92f2a7db"
   },
   "outputs": [
    {
     "data": {
      "image/png": "[encoded data removed]",
      "text/plain": [
       "<Figure size 640x480 with 1 Axes>"
      ]
     },
     "metadata": {},
     "output_type": "display_data"
    },
    {
     "data": {
      "image/png": "[encoded data removed]",
      "text/plain": [
       "<Figure size 640x480 with 1 Axes>"
      ]
     },
     "metadata": {},
     "output_type": "display_data"
    }
   ],
   "source": [
    "#Plot cast 1 and mount temperature data\n",
    "plot_cast(cast_start1, cast_end1, \"CF341\", \"CTD\", \"depth\", cast_df, 20) # plot depth and temperature profile for each cast\n",
    "plot_mount(cast_start1, cast_end1, \"FGPPN\", \"CTD\", \"depth\", mount_df) # plot temperature and time profile for each mount"
   ]
  },
  {
   "cell_type": "markdown",
   "metadata": {
    "cell_id": "2282ba80583641aea0df9540439e15bb",
    "deepnote_cell_type": "text-cell-h3",
    "formattedRanges": []
   },
   "source": [
    "### Plot cast 2 and mount temperature data"
   ]
  },
  {
   "cell_type": "code",
   "execution_count": null,
   "metadata": {
    "cell_id": "be7a5643f3c94e13946a27232c76e3bc",
    "deepnote_cell_type": "code",
    "execution_context_id": "04a5502c-32be-4545-b1ee-90d5a2265390",
    "execution_millis": 354,
    "execution_start": 1748983204122,
    "source_hash": "c54d01fe"
   },
   "outputs": [],
   "source": [
    "# Plot cast 2 and mount temperature data\n",
    "plot_cast(cast_start2, cast_end2, \"CF341\", \"CTD\", \"depth\", cast_df, 20) # plot depth and temperature profile for each cast\n",
    "plot_mount(cast_start2, cast_end2, \"FGPPN\", \"CTD\", \"depth\", mount_df) # plot temperature and time profile for each mount"
   ]
  },
  {
   "cell_type": "markdown",
   "metadata": {
    "created_in_deepnote_cell": true,
    "deepnote_cell_type": "markdown"
   },
   "source": [
    "<a style='text-decoration:none;line-height:16px;display:flex;color:#5B5B62;padding:10px;justify-content:end;' href='https://deepnote.com?utm_source=created-in-deepnote-cell&projectId=1cd2cd01-70e8-41b6-af2d-f797c6675dbe' target=\"_blank\">\n",
    "<img alt='Created in deepnote.com' style='display:inline;max-height:16px;margin:0px;margin-right:7.5px;' src='data:image/svg+xml;base64,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' > </img>\n",
    "Created in <span style='font-weight:600;margin-left:4px;'>Deepnote</span></a>"
   ]
  }
 ],
 "metadata": {
  "deepnote_notebook_id": "8aa9a45a4d1e4e10b2a6ced295aa0eb0",
  "deepnote_persisted_session": {
   "createdAt": "2025-06-03T17:41:59.455Z"
  },
  "kernelspec": {
   "display_name": ".venv",
   "language": "python",
   "name": "python3"
  },
  "language_info": {
   "codemirror_mode": {
    "name": "ipython",
    "version": 3
   },
   "file_extension": ".py",
   "mimetype": "text/x-python",
   "name": "python",
   "nbconvert_exporter": "python",
   "pygments_lexer": "ipython3",
   "version": "3.13.3"
  }
 },
 "nbformat": 4,
 "nbformat_minor": 0
}
