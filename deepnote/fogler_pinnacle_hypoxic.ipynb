{
 "cells": [
  {
   "cell_type": "markdown",
   "id": "cac80940",
   "metadata": {},
   "source": [
    "## folger pinnacle jul-aug 2021 hypoxic event"
   ]
  },
  {
   "cell_type": "code",
   "execution_count": 46,
   "id": "a69a61ad",
   "metadata": {},
   "outputs": [],
   "source": [
    "import pandas as pd\n",
    "import onc\n",
    "import os\n",
    "import json\n",
    "from typing import List, Tuple\n",
    "import matplotlib.pyplot as plt\n",
    "import matplotlib.dates as mdates\n",
    "import numpy as np\n",
    "import helpers_1 as h1\n",
    "\n",
    "from functools import reduce\n",
    "\n",
    "#token = os.environ[\"TRICY_TOKEN\"]\n",
    "from dotenv import load_dotenv\n",
    "load_dotenv()\n",
    "token = os.getenv(\"ONC_TOKEN\")\n",
    "\n",
    "# Create ONC client\n",
    "my_onc = onc.ONC(token)"
   ]
  },
  {
   "cell_type": "markdown",
   "id": "691d187d",
   "metadata": {},
   "source": [
    "Defining Hypoxia\n",
    "\n",
    "\"In ocean and freshwater environments, the term \"hypoxia\" refers to low or depleted oxygen in a water body.\" - https://oceanservice.noaa.gov/hazards/hypoxia/#:~:text=Graphic%20credit%3A%20Louisiana%20Universities%20Marine,oxygen%20in%20a%20water%20body.\n",
    "\n",
    "\"low levels of dissolved oxygen (less than 2-3 milligrams of oxygen per liter of water)\" - https://www.epa.gov/ms-htf/hypoxia-101 \n",
    "\n"
   ]
  },
  {
   "cell_type": "markdown",
   "id": "66c45086",
   "metadata": {},
   "source": [
    "Effects of Hypoxia\n",
    "\n",
    "- Deadzones\n",
    "- "
   ]
  },
  {
   "cell_type": "markdown",
   "id": "c5929f3b",
   "metadata": {},
   "source": [
    "Key Inidicators of Hypoxia\n",
    "\n",
    "1. Oxygen Concentration and Saturation\n",
    "\n",
    "\n",
    "2. Chloropyll\n",
    "3. PAR (Photosynthetically Active Radiation)\n",
    "4. Turbidity\n",
    "5. Temperature\n",
    "6. Salinity\n",
    "7. Apparent Oxygen Utilization"
   ]
  },
  {
   "cell_type": "code",
   "execution_count": 47,
   "id": "019f47e8",
   "metadata": {},
   "outputs": [],
   "source": [
    "\"\"\"\n",
    "Parameters:\n",
    "    wantedProps: list[str] - \n",
    "    locationCode: str - \n",
    "\n",
    "Returns:\n",
    "    wantedSensorCategoryCodes: str - list to be directly passed to get_property function\n",
    "\n",
    "\"\"\"\n",
    "\n",
    "def find_properties_by_location(deviceCategoryCode: str, wantedProps: list[str], locationCode: str):\n",
    "    \n",
    "    wantedSensorCategoryCodes = \"\" # store result\n",
    "\n",
    "    params = {\n",
    "        \"locationCode\": locationCode,\n",
    "        \"deviceCategoryCode\" : deviceCategoryCode\n",
    "    }\n",
    "\n",
    "    result = my_onc.getProperties(params)\n",
    "    extracted = []\n",
    "\n",
    "    for entry in result:\n",
    "        # Defensive check: make sure these keys exist\n",
    "        name = entry.get(\"propertyName\", \"\")\n",
    "        code = entry.get(\"propertyCode\", \"\")\n",
    "        has_data = entry.get(\"hasDeviceData\", False)\n",
    "\n",
    "        # Optionally: filter out properties that aren't actually measured\n",
    "        if name and code:\n",
    "            extracted.append({\n",
    "                \"propertyName\": name,\n",
    "                \"propertyCode\": code,\n",
    "                \"hasDeviceData\": has_data\n",
    "            })\n",
    "    \n",
    "    df = pd.DataFrame(extracted)\n",
    "    df.head()\n",
    "\n",
    "    for idx, row in df.iterrows(): # return index and series for each row\n",
    "        \n",
    "        for prop in wantedProps: # iterate through wanted properties\n",
    "            if prop in row[\"propertyCode\"]: # if wanted is a substring in the propertyCode of the current row\n",
    "                wantedSensorCategoryCodes += f\"{row[\"propertyCode\"]},\"\n",
    "                wantedProps.remove(prop)\n",
    "\n",
    "    # print properties the device cat at the location has and doesnt have\n",
    "    print(f\"{deviceCategoryCode} at {locationCode} does not have:\")\n",
    "    for prop in wantedProps:\n",
    "        print(prop)\n",
    "    print(f\"{deviceCategoryCode} at {locationCode} does have: {wantedSensorCategoryCodes}\")\n"
   ]
  },
  {
   "cell_type": "code",
   "execution_count": 48,
   "id": "4a2c18aa",
   "metadata": {},
   "outputs": [
    {
     "name": "stdout",
     "output_type": "stream",
     "text": [
      "FLNTU at FGPPN does not have:\n",
      "oxygen\n",
      "temperature\n",
      "salinity\n",
      "parphotonbased\n",
      "FLNTU at FGPPN does have: chlorophyll,turbidityntu,\n"
     ]
    }
   ],
   "source": [
    "#h1.find_properties_by_location(\"FGPPN\")\n",
    "wanted_properties = [\"oxygen\", \"chlorophyll\", \"turbidity\", \"temperature\", \"salinity\",\"parphotonbased\"] #also want PAR\n",
    "find_properties_by_location(\"FLNTU\", wanted_properties, \"FGPPN\") # CTD doesnt have oxygne or chlorophyll\n"
   ]
  },
  {
   "cell_type": "markdown",
   "id": "3fe11bab",
   "metadata": {},
   "source": []
  }
 ],
 "metadata": {
  "kernelspec": {
   "display_name": ".venv",
   "language": "python",
   "name": "python3"
  },
  "language_info": {
   "codemirror_mode": {
    "name": "ipython",
    "version": 3
   },
   "file_extension": ".py",
   "mimetype": "text/x-python",
   "name": "python",
   "nbconvert_exporter": "python",
   "pygments_lexer": "ipython3",
   "version": "3.13.3"
  }
 },
 "nbformat": 4,
 "nbformat_minor": 5
}
